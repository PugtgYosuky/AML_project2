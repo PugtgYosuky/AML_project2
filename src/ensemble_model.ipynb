{
 "cells": [
  {
   "cell_type": "code",
   "execution_count": 1,
   "metadata": {},
   "outputs": [],
   "source": [
    "import pandas as pd\n",
    "import os\n",
    "import numpy as np\n",
    "from sklearn import metrics\n",
    "import matplotlib.pyplot as plt\n",
    "import cv2"
   ]
  },
  {
   "cell_type": "code",
   "execution_count": 2,
   "metadata": {},
   "outputs": [],
   "source": [
    "experiences = [\n",
    "    'exp77', 'exp72', 'exp70'\n",
    "]"
   ]
  },
  {
   "cell_type": "code",
   "execution_count": 3,
   "metadata": {},
   "outputs": [],
   "source": [
    "predictions = pd.DataFrame()\n",
    "final_path = 'ensemble'\n",
    "for i, exp in enumerate(experiences):\n",
    "    path = os.path.join('logs', exp, f'kaggle_prediction_{exp}.csv')\n",
    "    df = pd.read_csv(path)\n",
    "    predictions[exp] = df['class']\n",
    "    final_path += f'_{exp}'\n"
   ]
  },
  {
   "cell_type": "code",
   "execution_count": 4,
   "metadata": {},
   "outputs": [],
   "source": [
    "preds = predictions.mode(axis=1).to_numpy()[:, 0]"
   ]
  },
  {
   "cell_type": "code",
   "execution_count": 5,
   "metadata": {},
   "outputs": [],
   "source": [
    "test_df = pd.DataFrame()\n",
    "test_df['number'] = np.arange(len(preds))\n",
    "test_df['class'] = preds.astype(int)"
   ]
  },
  {
   "cell_type": "code",
   "execution_count": 6,
   "metadata": {},
   "outputs": [],
   "source": [
    "test_df.to_csv(f'{final_path}.csv', index=False)"
   ]
  },
  {
   "attachments": {},
   "cell_type": "markdown",
   "metadata": {},
   "source": [
    "## Ensemble test "
   ]
  },
  {
   "cell_type": "code",
   "execution_count": 7,
   "metadata": {},
   "outputs": [],
   "source": [
    "experiences = ['exp76', 'exp71', 'exp69']"
   ]
  },
  {
   "cell_type": "code",
   "execution_count": 8,
   "metadata": {},
   "outputs": [],
   "source": [
    "predictions = pd.DataFrame()"
   ]
  },
  {
   "cell_type": "code",
   "execution_count": 9,
   "metadata": {},
   "outputs": [],
   "source": [
    "for index, exp in enumerate(experiences):\n",
    "    path = os.path.join('logs', exp, f'test_split_prediction_{exp}.csv')\n",
    "    df = pd.read_csv(path)\n",
    "    predictions[exp] = df['class']\n"
   ]
  },
  {
   "cell_type": "code",
   "execution_count": 10,
   "metadata": {},
   "outputs": [],
   "source": [
    "y_real = df['real']"
   ]
  },
  {
   "cell_type": "code",
   "execution_count": 11,
   "metadata": {},
   "outputs": [],
   "source": [
    "preds = predictions.mode(axis=1).to_numpy()[:, 0]"
   ]
  },
  {
   "cell_type": "code",
   "execution_count": 12,
   "metadata": {},
   "outputs": [
    {
     "name": "stdout",
     "output_type": "stream",
     "text": [
      "              precision    recall  f1-score   support\n",
      "\n",
      "           0       0.86      0.92      0.89       400\n",
      "           1       0.95      0.98      0.97       400\n",
      "           2       0.82      0.83      0.83       400\n",
      "           3       0.86      0.80      0.83       400\n",
      "           4       0.90      0.88      0.89       400\n",
      "           5       0.92      0.89      0.90       400\n",
      "\n",
      "    accuracy                           0.89      2400\n",
      "   macro avg       0.89      0.89      0.88      2400\n",
      "weighted avg       0.89      0.89      0.88      2400\n",
      "\n"
     ]
    }
   ],
   "source": [
    "print(metrics.classification_report(y_real, preds))"
   ]
  },
  {
   "cell_type": "code",
   "execution_count": 13,
   "metadata": {},
   "outputs": [
    {
     "data": {
      "text/plain": [
       "Text(0.5, 1.0, 'Confusion matrix')"
      ]
     },
     "execution_count": 13,
     "metadata": {},
     "output_type": "execute_result"
    },
    {
     "data": {
      "image/png": "[encoded data removed]",
      "text/plain": [
       "<Figure size 720x720 with 2 Axes>"
      ]
     },
     "metadata": {
      "needs_background": "light"
     },
     "output_type": "display_data"
    }
   ],
   "source": [
    "cm = metrics.confusion_matrix(y_real, preds)\n",
    "\n",
    "# save confusion matrix as image\n",
    "fig, ax = plt.subplots(figsize=(10, 10))\n",
    "disp = metrics.ConfusionMatrixDisplay(cm, display_labels=['Buildings', 'Forest', 'Glacier', 'Mountain', 'Sea', 'Street'])\n",
    "disp.plot(ax=ax)\n",
    "plt.title('Confusion matrix', fontdict={'fontsize': 15})"
   ]
  },
  {
   "attachments": {},
   "cell_type": "markdown",
   "metadata": {},
   "source": [
    "# Ensemble k-Fold"
   ]
  },
  {
   "cell_type": "code",
   "execution_count": 36,
   "metadata": {},
   "outputs": [],
   "source": [
    "experience = 'exp78'"
   ]
  },
  {
   "cell_type": "code",
   "execution_count": 37,
   "metadata": {},
   "outputs": [],
   "source": [
    "predictions = pd.DataFrame()\n",
    "for i in range(3):\n",
    "    path = os.path.join('logs', experience, f'ensemble_train_{i}_prediction_{experience}.csv')\n",
    "    df = pd.read_csv(path)\n",
    "    predictions[i] = df['class']"
   ]
  },
  {
   "cell_type": "code",
   "execution_count": 38,
   "metadata": {},
   "outputs": [],
   "source": [
    "y_real = df.real"
   ]
  },
  {
   "cell_type": "code",
   "execution_count": 39,
   "metadata": {},
   "outputs": [],
   "source": [
    "preds = predictions.mode(axis=1).to_numpy()[:, 0]"
   ]
  },
  {
   "cell_type": "code",
   "execution_count": 40,
   "metadata": {},
   "outputs": [
    {
     "name": "stdout",
     "output_type": "stream",
     "text": [
      "              precision    recall  f1-score   support\n",
      "\n",
      "           0       0.85      0.82      0.83       400\n",
      "           1       0.91      0.97      0.94       400\n",
      "           2       0.83      0.81      0.82       400\n",
      "           3       0.86      0.79      0.82       400\n",
      "           4       0.84      0.89      0.86       400\n",
      "           5       0.84      0.86      0.85       400\n",
      "\n",
      "    accuracy                           0.86      2400\n",
      "   macro avg       0.86      0.86      0.85      2400\n",
      "weighted avg       0.86      0.86      0.85      2400\n",
      "\n"
     ]
    }
   ],
   "source": [
    "print(metrics.classification_report(y_real, preds))"
   ]
  }
 ],
 "metadata": {
  "kernelspec": {
   "display_name": "aca",
   "language": "python",
   "name": "aca"
  },
  "language_info": {
   "codemirror_mode": {
    "name": "ipython",
    "version": 3
   },
   "file_extension": ".py",
   "mimetype": "text/x-python",
   "name": "python",
   "nbconvert_exporter": "python",
   "pygments_lexer": "ipython3",
   "version": "3.10.4"
  },
  "orig_nbformat": 4
 },
 "nbformat": 4,
 "nbformat_minor": 2
}
